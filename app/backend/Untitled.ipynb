{
 "cells": [
  {
   "cell_type": "code",
   "execution_count": 5,
   "metadata": {},
   "outputs": [],
   "source": [
    "import keras\n",
    "from skimage.transform import resize\n",
    "from sklearn import svm\n",
    "from sklearn import datasets\n",
    "from PIL import Image\n",
    "from sklearn.externals import joblib\n",
    "import numpy as np"
   ]
  },
  {
   "cell_type": "code",
   "execution_count": 2,
   "metadata": {
    "collapsed": true
   },
   "outputs": [],
   "source": [
    "model = keras.models.load_model(\"./model2.h5\")"
   ]
  },
  {
   "cell_type": "code",
   "execution_count": 9,
   "metadata": {
    "collapsed": true
   },
   "outputs": [],
   "source": [
    "INPUT_SIZE = (64, 64, 3)"
   ]
  },
  {
   "cell_type": "code",
   "execution_count": 10,
   "metadata": {
    "collapsed": true
   },
   "outputs": [],
   "source": [
    "def model_predict(image):\n",
    "    # remove the black border\n",
    "    imgsum = np.sum(image, axis=2)\n",
    "    ind0 = np.where(np.sum(imgsum, axis=1) < 5000)[0]\n",
    "    ind1 = np.where(np.sum(imgsum, axis=0) < 5000)[0]\n",
    "\n",
    "    if len(ind0) > 0 and len(ind1) >0:\n",
    "        new_im = image[:ind0.min(), :ind1.min(), :]\n",
    "    elif len(ind0) > 0 and len(ind1) == 0:\n",
    "        new_im = image[:ind0.min(), :, :]\n",
    "    elif len(ind0) == 0 and len(ind1) > 0:\n",
    "        new_im = image[:, :ind1.min(), :]\n",
    "    else:\n",
    "        new_im = image\n",
    "    rimage = resize(new_im, INPUT_SIZE)\n",
    "    predictions = model.predict_on_batch(np.expand_dims(rimage, axis=0))[0]\n",
    "    return predictions"
   ]
  },
  {
   "cell_type": "code",
   "execution_count": 11,
   "metadata": {
    "collapsed": true
   },
   "outputs": [],
   "source": [
    "image = np.array(Image.open(\"/home/thomas/dev/github/phytoplankton-classification/samples/002-221319_3_1753.jpg\"))"
   ]
  },
  {
   "cell_type": "code",
   "execution_count": 12,
   "metadata": {},
   "outputs": [
    {
     "name": "stderr",
     "output_type": "stream",
     "text": [
      "/home/thomas/dev/anaconda2/lib/python2.7/site-packages/skimage/transform/_warps.py:84: UserWarning: The default mode, 'constant', will be changed to 'reflect' in skimage 0.15.\n",
      "  warn(\"The default mode, 'constant', will be changed to 'reflect' in \"\n"
     ]
    },
    {
     "data": {
      "text/plain": [
       "array([0., 0., 0., 0., 0., 0., 0., 0., 0., 0., 0., 0., 0., 0., 0., 0., 0.,\n",
       "       0., 0., 0., 0., 0., 1., 0., 0., 0., 0., 0., 0., 0., 0., 0., 0., 0.,\n",
       "       0., 0., 0., 0., 0.], dtype=float32)"
      ]
     },
     "execution_count": 12,
     "metadata": {},
     "output_type": "execute_result"
    }
   ],
   "source": [
    "model_predict(image)"
   ]
  },
  {
   "cell_type": "code",
   "execution_count": null,
   "metadata": {
    "collapsed": true
   },
   "outputs": [],
   "source": []
  }
 ],
 "metadata": {
  "kernelspec": {
   "display_name": "Python [default]",
   "language": "python",
   "name": "python2"
  },
  "language_info": {
   "codemirror_mode": {
    "name": "ipython",
    "version": 2
   },
   "file_extension": ".py",
   "mimetype": "text/x-python",
   "name": "python",
   "nbconvert_exporter": "python",
   "pygments_lexer": "ipython2",
   "version": "2.7.14"
  }
 },
 "nbformat": 4,
 "nbformat_minor": 2
}
